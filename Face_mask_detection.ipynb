{
 "cells": [
  {
   "cell_type": "markdown",
   "metadata": {},
   "source": [
    "# Final Project - Face Mask Detection\n",
    "### (Solution)"
   ]
  },
  {
   "cell_type": "code",
   "execution_count": 1,
   "metadata": {},
   "outputs": [],
   "source": [
    "import numpy as np\n",
    "import pandas as pd\n",
    "%matplotlib inline\n",
    "import matplotlib as mpl\n",
    "import matplotlib.pyplot as plt\n",
    "import os"
   ]
  },
  {
   "cell_type": "code",
   "execution_count": 3,
   "metadata": {},
   "outputs": [
    {
     "name": "stdout",
     "output_type": "stream",
     "text": [
      "Collecting tensorflow\n",
      "  Downloading tensorflow-2.7.0-cp38-cp38-win_amd64.whl (430.8 MB)\n",
      "Requirement already satisfied: numpy>=1.14.5 in c:\\anaconda\\lib\\site-packages (from tensorflow) (1.19.2)\n",
      "Requirement already satisfied: h5py>=2.9.0 in c:\\anaconda\\lib\\site-packages (from tensorflow) (2.10.0)\n",
      "Collecting gast<0.5.0,>=0.2.1\n",
      "  Using cached gast-0.4.0-py3-none-any.whl (9.8 kB)\n",
      "Collecting opt-einsum>=2.3.2\n",
      "  Using cached opt_einsum-3.3.0-py3-none-any.whl (65 kB)\n",
      "Collecting astunparse>=1.6.0\n",
      "  Using cached astunparse-1.6.3-py2.py3-none-any.whl (12 kB)\n",
      "Collecting protobuf>=3.9.2\n",
      "  Downloading protobuf-3.19.1-cp38-cp38-win_amd64.whl (895 kB)\n",
      "Collecting flatbuffers<3.0,>=1.12\n",
      "  Downloading flatbuffers-2.0-py2.py3-none-any.whl (26 kB)\n",
      "Collecting absl-py>=0.4.0\n",
      "  Downloading absl_py-1.0.0-py3-none-any.whl (126 kB)\n",
      "Processing c:\\users\\aaheli paul\\appdata\\local\\pip\\cache\\wheels\\a0\\16\\9c\\5473df82468f958445479c59e784896fa24f4a5fc024b0f501\\termcolor-1.1.0-py3-none-any.whl\n",
      "Requirement already satisfied: wheel<1.0,>=0.32.0 in c:\\anaconda\\lib\\site-packages (from tensorflow) (0.35.1)\n",
      "Requirement already satisfied: typing-extensions>=3.6.6 in c:\\anaconda\\lib\\site-packages (from tensorflow) (3.7.4.3)\n",
      "Collecting libclang>=9.0.1\n",
      "  Downloading libclang-12.0.0-py2.py3-none-win_amd64.whl (13.1 MB)\n",
      "Collecting grpcio<2.0,>=1.24.3\n",
      "  Downloading grpcio-1.43.0-cp38-cp38-win_amd64.whl (3.4 MB)\n",
      "Collecting keras<2.8,>=2.7.0rc0\n",
      "  Downloading keras-2.7.0-py2.py3-none-any.whl (1.3 MB)\n",
      "Collecting google-pasta>=0.1.1\n",
      "  Using cached google_pasta-0.2.0-py3-none-any.whl (57 kB)\n",
      "Collecting tensorboard~=2.6\n",
      "  Downloading tensorboard-2.7.0-py3-none-any.whl (5.8 MB)\n",
      "Collecting tensorflow-estimator<2.8,~=2.7.0rc0\n",
      "  Downloading tensorflow_estimator-2.7.0-py2.py3-none-any.whl (463 kB)\n",
      "Requirement already satisfied: wrapt>=1.11.0 in c:\\anaconda\\lib\\site-packages (from tensorflow) (1.11.2)\n",
      "Collecting keras-preprocessing>=1.1.1\n",
      "  Using cached Keras_Preprocessing-1.1.2-py2.py3-none-any.whl (42 kB)\n",
      "Collecting tensorflow-io-gcs-filesystem>=0.21.0\n",
      "  Downloading tensorflow_io_gcs_filesystem-0.23.1-cp38-cp38-win_amd64.whl (1.5 MB)\n",
      "Requirement already satisfied: six>=1.12.0 in c:\\anaconda\\lib\\site-packages (from tensorflow) (1.15.0)\n",
      "Requirement already satisfied: setuptools>=41.0.0 in c:\\anaconda\\lib\\site-packages (from tensorboard~=2.6->tensorflow) (50.3.1.post20201107)\n",
      "Collecting tensorboard-plugin-wit>=1.6.0\n",
      "  Using cached tensorboard_plugin_wit-1.8.0-py3-none-any.whl (781 kB)\n",
      "Requirement already satisfied: werkzeug>=0.11.15 in c:\\anaconda\\lib\\site-packages (from tensorboard~=2.6->tensorflow) (1.0.1)\n",
      "Collecting markdown>=2.6.8\n",
      "  Downloading Markdown-3.3.6-py3-none-any.whl (97 kB)\n",
      "Requirement already satisfied: requests<3,>=2.21.0 in c:\\anaconda\\lib\\site-packages (from tensorboard~=2.6->tensorflow) (2.24.0)\n",
      "Collecting google-auth<3,>=1.6.3\n",
      "  Downloading google_auth-2.3.3-py2.py3-none-any.whl (155 kB)\n",
      "Collecting tensorboard-data-server<0.7.0,>=0.6.0\n",
      "  Using cached tensorboard_data_server-0.6.1-py3-none-any.whl (2.4 kB)\n",
      "Collecting google-auth-oauthlib<0.5,>=0.4.1\n",
      "  Using cached google_auth_oauthlib-0.4.6-py2.py3-none-any.whl (18 kB)\n",
      "Collecting importlib-metadata>=4.4; python_version < \"3.10\"\n",
      "  Downloading importlib_metadata-4.9.0-py3-none-any.whl (17 kB)\n",
      "Requirement already satisfied: certifi>=2017.4.17 in c:\\anaconda\\lib\\site-packages (from requests<3,>=2.21.0->tensorboard~=2.6->tensorflow) (2020.6.20)\n",
      "Requirement already satisfied: chardet<4,>=3.0.2 in c:\\anaconda\\lib\\site-packages (from requests<3,>=2.21.0->tensorboard~=2.6->tensorflow) (3.0.4)\n",
      "Requirement already satisfied: idna<3,>=2.5 in c:\\anaconda\\lib\\site-packages (from requests<3,>=2.21.0->tensorboard~=2.6->tensorflow) (2.10)\n",
      "Requirement already satisfied: urllib3!=1.25.0,!=1.25.1,<1.26,>=1.21.1 in c:\\anaconda\\lib\\site-packages (from requests<3,>=2.21.0->tensorboard~=2.6->tensorflow) (1.25.11)\n",
      "Collecting pyasn1-modules>=0.2.1\n",
      "  Using cached pyasn1_modules-0.2.8-py2.py3-none-any.whl (155 kB)\n",
      "Collecting cachetools<5.0,>=2.0.0\n",
      "  Downloading cachetools-4.2.4-py3-none-any.whl (10 kB)\n",
      "Collecting rsa<5,>=3.1.4; python_version >= \"3.6\"\n",
      "  Downloading rsa-4.8-py3-none-any.whl (39 kB)\n",
      "Collecting requests-oauthlib>=0.7.0\n",
      "  Using cached requests_oauthlib-1.3.0-py2.py3-none-any.whl (23 kB)\n",
      "Requirement already satisfied: zipp>=0.5 in c:\\anaconda\\lib\\site-packages (from importlib-metadata>=4.4; python_version < \"3.10\"->markdown>=2.6.8->tensorboard~=2.6->tensorflow) (3.4.0)\n",
      "Collecting pyasn1<0.5.0,>=0.4.6\n",
      "  Using cached pyasn1-0.4.8-py2.py3-none-any.whl (77 kB)\n",
      "Collecting oauthlib>=3.0.0\n",
      "  Using cached oauthlib-3.1.1-py2.py3-none-any.whl (146 kB)\n",
      "Installing collected packages: gast, opt-einsum, astunparse, protobuf, flatbuffers, absl-py, termcolor, libclang, grpcio, keras, google-pasta, tensorboard-plugin-wit, importlib-metadata, markdown, pyasn1, pyasn1-modules, cachetools, rsa, google-auth, tensorboard-data-server, oauthlib, requests-oauthlib, google-auth-oauthlib, tensorboard, tensorflow-estimator, keras-preprocessing, tensorflow-io-gcs-filesystem, tensorflow\n",
      "  Attempting uninstall: importlib-metadata\n",
      "    Found existing installation: importlib-metadata 2.0.0\n",
      "    Uninstalling importlib-metadata-2.0.0:\n",
      "      Successfully uninstalled importlib-metadata-2.0.0\n",
      "Successfully installed absl-py-1.0.0 astunparse-1.6.3 cachetools-4.2.4 flatbuffers-2.0 gast-0.4.0 google-auth-2.3.3 google-auth-oauthlib-0.4.6 google-pasta-0.2.0 grpcio-1.43.0 importlib-metadata-4.9.0 keras-2.7.0 keras-preprocessing-1.1.2 libclang-12.0.0 markdown-3.3.6 oauthlib-3.1.1 opt-einsum-3.3.0 protobuf-3.19.1 pyasn1-0.4.8 pyasn1-modules-0.2.8 requests-oauthlib-1.3.0 rsa-4.8 tensorboard-2.7.0 tensorboard-data-server-0.6.1 tensorboard-plugin-wit-1.8.0 tensorflow-2.7.0 tensorflow-estimator-2.7.0 tensorflow-io-gcs-filesystem-0.23.1 termcolor-1.1.0\n"
     ]
    }
   ],
   "source": [
    "!pip install tensorflow\n",
    "import tensorflow as tf\n",
    "from tensorflow import keras"
   ]
  },
  {
   "cell_type": "markdown",
   "metadata": {},
   "source": [
    "### Please enter the correct file path"
   ]
  },
  {
   "cell_type": "code",
   "execution_count": 4,
   "metadata": {},
   "outputs": [],
   "source": [
    "train_dir = r'C:\\Users\\Aaheli Paul\\Face Mask Detection\\Train'\n",
    "validation_dir = r'C:\\Users\\Aaheli Paul\\Face Mask Detection\\Validation'\n",
    "test_dir = r'C:\\Users\\Aaheli Paul\\Face Mask Detection\\Test'"
   ]
  },
  {
   "cell_type": "code",
   "execution_count": 5,
   "metadata": {},
   "outputs": [],
   "source": [
    "from tensorflow.keras.preprocessing.image import ImageDataGenerator"
   ]
  },
  {
   "cell_type": "code",
   "execution_count": 6,
   "metadata": {},
   "outputs": [
    {
     "name": "stdout",
     "output_type": "stream",
     "text": [
      "Found 10000 images belonging to 2 classes.\n",
      "Found 800 images belonging to 2 classes.\n"
     ]
    }
   ],
   "source": [
    "train_datagen = ImageDataGenerator(rescale=1./255)\n",
    "test_datagen = ImageDataGenerator(rescale=1./255)\n",
    "\n",
    "train_generator = train_datagen.flow_from_directory(\n",
    "        train_dir,\n",
    "        target_size=(128, 128),\n",
    "        batch_size=20,\n",
    "        class_mode='binary')\n",
    "\n",
    "validation_generator = test_datagen.flow_from_directory(\n",
    "        validation_dir,\n",
    "        target_size=(128, 128),\n",
    "        batch_size=20,\n",
    "        class_mode='binary')"
   ]
  },
  {
   "cell_type": "code",
   "execution_count": 7,
   "metadata": {},
   "outputs": [],
   "source": [
    "from tensorflow.keras import layers\n",
    "from tensorflow.keras import models"
   ]
  },
  {
   "cell_type": "code",
   "execution_count": 8,
   "metadata": {},
   "outputs": [],
   "source": [
    "model = models.Sequential()\n",
    "\n",
    "model.add(layers.Conv2D(32, (3, 3), activation='relu',\n",
    "                        input_shape=(128, 128, 3)))\n",
    "model.add(layers.MaxPooling2D((2, 2)))\n",
    "\n",
    "model.add(layers.Conv2D(64, (3, 3), activation='relu'))\n",
    "model.add(layers.MaxPooling2D((2, 2)))\n",
    "\n",
    "model.add(layers.Conv2D(128, (3, 3), activation='relu'))\n",
    "model.add(layers.MaxPooling2D((2, 2)))\n",
    "\n",
    "model.add(layers.Conv2D(128, (3, 3), activation='relu'))\n",
    "model.add(layers.MaxPooling2D((2, 2)))\n",
    "\n",
    "model.add(layers.Flatten())\n",
    "\n",
    "model.add(layers.Dense(512, activation='relu'))\n",
    "\n",
    "model.add(layers.Dense(1, activation='sigmoid'))"
   ]
  },
  {
   "cell_type": "code",
   "execution_count": 10,
   "metadata": {},
   "outputs": [],
   "source": [
    "from tensorflow.keras import optimizers\n",
    "\n",
    "model.compile(loss='binary_crossentropy',\n",
    "              optimizer=optimizers.RMSprop(learning_rate=1e-4),\n",
    "              metrics=['acc'])"
   ]
  },
  {
   "cell_type": "code",
   "execution_count": 12,
   "metadata": {
    "scrolled": true
   },
   "outputs": [
    {
     "name": "stdout",
     "output_type": "stream",
     "text": [
      "Epoch 1/20\n",
      "500/500 [==============================] - 171s 342ms/step - loss: 0.0852 - acc: 0.9695 - val_loss: 0.0341 - val_acc: 0.9850\n",
      "Epoch 2/20\n",
      "500/500 [==============================] - 166s 332ms/step - loss: 0.0410 - acc: 0.9859 - val_loss: 0.0255 - val_acc: 0.9937\n",
      "Epoch 3/20\n",
      "500/500 [==============================] - 160s 320ms/step - loss: 0.0299 - acc: 0.9886 - val_loss: 0.0136 - val_acc: 0.9937\n",
      "Epoch 4/20\n",
      "500/500 [==============================] - 158s 316ms/step - loss: 0.0251 - acc: 0.9911 - val_loss: 0.0130 - val_acc: 0.9925\n",
      "Epoch 5/20\n",
      "500/500 [==============================] - 159s 318ms/step - loss: 0.0209 - acc: 0.9923 - val_loss: 0.0091 - val_acc: 0.9950\n",
      "Epoch 6/20\n",
      "500/500 [==============================] - 171s 343ms/step - loss: 0.0161 - acc: 0.9946 - val_loss: 0.0081 - val_acc: 0.9962\n",
      "Epoch 7/20\n",
      "500/500 [==============================] - 158s 316ms/step - loss: 0.0145 - acc: 0.9955 - val_loss: 0.0167 - val_acc: 0.9962\n",
      "Epoch 8/20\n",
      "500/500 [==============================] - 157s 314ms/step - loss: 0.0127 - acc: 0.9962 - val_loss: 0.0126 - val_acc: 0.9950\n",
      "Epoch 9/20\n",
      "500/500 [==============================] - 160s 320ms/step - loss: 0.0111 - acc: 0.9962 - val_loss: 0.0140 - val_acc: 0.9950\n",
      "Epoch 10/20\n",
      "500/500 [==============================] - 159s 318ms/step - loss: 0.0091 - acc: 0.9964 - val_loss: 0.0093 - val_acc: 0.9975\n",
      "Epoch 11/20\n",
      "500/500 [==============================] - 156s 311ms/step - loss: 0.0093 - acc: 0.9971 - val_loss: 0.0096 - val_acc: 0.9975\n",
      "Epoch 12/20\n",
      "500/500 [==============================] - 159s 318ms/step - loss: 0.0072 - acc: 0.9969 - val_loss: 0.0095 - val_acc: 0.9975\n",
      "Epoch 13/20\n",
      "500/500 [==============================] - 157s 315ms/step - loss: 0.0078 - acc: 0.9981 - val_loss: 0.0131 - val_acc: 0.9962\n",
      "Epoch 14/20\n",
      "500/500 [==============================] - 159s 317ms/step - loss: 0.0055 - acc: 0.9982 - val_loss: 0.0226 - val_acc: 0.9950\n",
      "Epoch 15/20\n",
      "500/500 [==============================] - 156s 313ms/step - loss: 0.0055 - acc: 0.9980 - val_loss: 0.0115 - val_acc: 0.9975\n",
      "Epoch 16/20\n",
      "500/500 [==============================] - 161s 322ms/step - loss: 0.0059 - acc: 0.9981 - val_loss: 0.0226 - val_acc: 0.9962\n",
      "Epoch 17/20\n",
      "500/500 [==============================] - 158s 316ms/step - loss: 0.0034 - acc: 0.9991 - val_loss: 0.0199 - val_acc: 0.9975\n",
      "Epoch 18/20\n",
      "500/500 [==============================] - 165s 330ms/step - loss: 0.0041 - acc: 0.9987 - val_loss: 0.0493 - val_acc: 0.9912\n",
      "Epoch 19/20\n",
      "500/500 [==============================] - 160s 320ms/step - loss: 0.0036 - acc: 0.9988 - val_loss: 0.0215 - val_acc: 0.9937\n",
      "Epoch 20/20\n",
      "500/500 [==============================] - 157s 315ms/step - loss: 0.0033 - acc: 0.9987 - val_loss: 0.0241 - val_acc: 0.9962\n"
     ]
    }
   ],
   "source": [
    "history = model.fit(\n",
    "      train_generator,\n",
    "      steps_per_epoch=500,\n",
    "      epochs=20,\n",
    "      validation_data=validation_generator,\n",
    "      validation_steps=40)"
   ]
  },
  {
   "cell_type": "code",
   "execution_count": 13,
   "metadata": {},
   "outputs": [],
   "source": [
    "model.save(\"model_cnn_project_P1.h5\")"
   ]
  },
  {
   "cell_type": "code",
   "execution_count": 14,
   "metadata": {},
   "outputs": [],
   "source": [
    "from tensorflow.keras import backend as K \n",
    "\n",
    "K.clear_session()\n",
    "del model"
   ]
  },
  {
   "cell_type": "code",
   "execution_count": 15,
   "metadata": {},
   "outputs": [
    {
     "name": "stdout",
     "output_type": "stream",
     "text": [
      "Found 10000 images belonging to 2 classes.\n",
      "Found 800 images belonging to 2 classes.\n"
     ]
    }
   ],
   "source": [
    "train_datagen = ImageDataGenerator(\n",
    "    rescale=1./255,\n",
    "    rotation_range=40,\n",
    "    width_shift_range=0.2,\n",
    "    height_shift_range=0.2,\n",
    "    shear_range=0.2,\n",
    "    zoom_range=0.2,\n",
    "    horizontal_flip=True,)\n",
    "\n",
    "test_datagen = ImageDataGenerator(rescale=1./255)\n",
    "\n",
    "train_generator = train_datagen.flow_from_directory(\n",
    "        train_dir,\n",
    "        target_size=(128, 128),\n",
    "        batch_size=32,\n",
    "        class_mode='binary')\n",
    "\n",
    "validation_generator = test_datagen.flow_from_directory(\n",
    "        validation_dir,\n",
    "        target_size=(128, 128),\n",
    "        batch_size=32,\n",
    "        class_mode='binary')"
   ]
  },
  {
   "cell_type": "code",
   "execution_count": 16,
   "metadata": {},
   "outputs": [],
   "source": [
    "model = models.Sequential()\n",
    "model.add(layers.Conv2D(32, (3, 3), activation='relu',\n",
    "                        input_shape=(128, 128, 3)))\n",
    "model.add(layers.MaxPooling2D((2, 2)))\n",
    "model.add(layers.Conv2D(64, (3, 3), activation='relu'))\n",
    "model.add(layers.MaxPooling2D((2, 2)))\n",
    "model.add(layers.Conv2D(128, (3, 3), activation='relu'))\n",
    "model.add(layers.MaxPooling2D((2, 2)))\n",
    "model.add(layers.Conv2D(128, (3, 3), activation='relu'))\n",
    "model.add(layers.MaxPooling2D((2, 2)))\n",
    "model.add(layers.Flatten())\n",
    "model.add(layers.Dropout(0.5))\n",
    "model.add(layers.Dense(512, activation='relu'))\n",
    "model.add(layers.Dense(1, activation='sigmoid'))\n",
    "\n",
    "model.compile(loss='binary_crossentropy',\n",
    "              optimizer=optimizers.RMSprop(lr=1e-4),\n",
    "              metrics=['acc'])"
   ]
  },
  {
   "cell_type": "code",
   "execution_count": 18,
   "metadata": {},
   "outputs": [
    {
     "name": "stdout",
     "output_type": "stream",
     "text": [
      "Epoch 1/10\n",
      "300/300 [==============================] - 186s 619ms/step - loss: 0.3137 - acc: 0.8684 - val_loss: 0.1670 - val_acc: 0.9400\n",
      "Epoch 2/10\n",
      "300/300 [==============================] - 173s 577ms/step - loss: 0.2236 - acc: 0.9142 - val_loss: 0.1196 - val_acc: 0.9550\n",
      "Epoch 3/10\n",
      "300/300 [==============================] - 181s 604ms/step - loss: 0.1855 - acc: 0.9264 - val_loss: 0.1151 - val_acc: 0.9600\n",
      "Epoch 4/10\n",
      "300/300 [==============================] - 178s 593ms/step - loss: 0.1777 - acc: 0.9323 - val_loss: 0.0958 - val_acc: 0.9750\n",
      "Epoch 5/10\n",
      "300/300 [==============================] - 167s 557ms/step - loss: 0.1690 - acc: 0.9378 - val_loss: 0.0991 - val_acc: 0.9712\n",
      "Epoch 6/10\n",
      "300/300 [==============================] - 164s 546ms/step - loss: 0.1529 - acc: 0.9431 - val_loss: 0.0726 - val_acc: 0.9837\n",
      "Epoch 7/10\n",
      "300/300 [==============================] - 167s 556ms/step - loss: 0.1505 - acc: 0.9460 - val_loss: 0.0632 - val_acc: 0.9862\n",
      "Epoch 8/10\n",
      "300/300 [==============================] - 167s 555ms/step - loss: 0.1366 - acc: 0.9487 - val_loss: 0.0858 - val_acc: 0.9750\n",
      "Epoch 9/10\n",
      "300/300 [==============================] - 166s 553ms/step - loss: 0.1320 - acc: 0.9549 - val_loss: 0.0920 - val_acc: 0.9750\n",
      "Epoch 10/10\n",
      "300/300 [==============================] - 162s 539ms/step - loss: 0.1374 - acc: 0.9496 - val_loss: 0.0652 - val_acc: 0.9837\n"
     ]
    }
   ],
   "source": [
    "history = model.fit(\n",
    "      train_generator,\n",
    "      steps_per_epoch=300,\n",
    "      epochs=10,\n",
    "      validation_data=validation_generator,\n",
    "      validation_steps=25)"
   ]
  },
  {
   "cell_type": "code",
   "execution_count": null,
   "metadata": {},
   "outputs": [],
   "source": []
  },
  {
   "cell_type": "code",
   "execution_count": 19,
   "metadata": {},
   "outputs": [
    {
     "name": "stdout",
     "output_type": "stream",
     "text": [
      "Downloading data from https://storage.googleapis.com/tensorflow/keras-applications/vgg19/vgg19_weights_tf_dim_ordering_tf_kernels_notop.h5\n",
      "80142336/80134624 [==============================] - 7s 0us/step\n",
      "80150528/80134624 [==============================] - 7s 0us/step\n"
     ]
    }
   ],
   "source": [
    "from tensorflow.keras.applications import VGG19\n",
    "\n",
    "conv_base = VGG19(weights='imagenet',\n",
    "                  include_top=False,\n",
    "                  input_shape=(128, 128, 3))"
   ]
  },
  {
   "cell_type": "code",
   "execution_count": 20,
   "metadata": {},
   "outputs": [],
   "source": [
    "from tensorflow.keras import models\n",
    "from tensorflow.keras import layers\n",
    "\n",
    "model = models.Sequential()\n",
    "model.add(conv_base)\n",
    "model.add(layers.Flatten())\n",
    "model.add(layers.Dense(256, activation='relu'))\n",
    "model.add(layers.Dense(1, activation='sigmoid'))"
   ]
  },
  {
   "cell_type": "code",
   "execution_count": 21,
   "metadata": {},
   "outputs": [],
   "source": [
    "from tensorflow.keras import optimizers\n",
    "\n",
    "model.compile(loss='binary_crossentropy',\n",
    "              optimizer=optimizers.RMSprop(lr=2e-5),\n",
    "              metrics=['acc'])"
   ]
  },
  {
   "cell_type": "code",
   "execution_count": 25,
   "metadata": {},
   "outputs": [],
   "source": [
    "checkpoint_cb = keras.callbacks.ModelCheckpoint(\"CNN_Final_Project_Model-{epoch:02d}.h5\")"
   ]
  },
  {
   "cell_type": "code",
   "execution_count": 26,
   "metadata": {},
   "outputs": [
    {
     "name": "stdout",
     "output_type": "stream",
     "text": [
      "Epoch 1/10\n",
      "300/300 [==============================] - 3018s 10s/step - loss: 0.0442 - acc: 0.9847 - val_loss: 0.0022 - val_acc: 1.0000\n",
      "Epoch 2/10\n",
      "300/300 [==============================] - 2779s 9s/step - loss: 0.0245 - acc: 0.9922 - val_loss: 0.0132 - val_acc: 0.9975\n",
      "Epoch 3/10\n",
      "300/300 [==============================] - 2938s 10s/step - loss: 0.0178 - acc: 0.9941 - val_loss: 0.0147 - val_acc: 0.9975\n",
      "Epoch 4/10\n",
      "300/300 [==============================] - 3068s 10s/step - loss: 0.0173 - acc: 0.9951 - val_loss: 0.0273 - val_acc: 0.9900\n",
      "Epoch 5/10\n",
      "300/300 [==============================] - 2862s 10s/step - loss: 0.0125 - acc: 0.9960 - val_loss: 0.0115 - val_acc: 0.9987\n",
      "Epoch 6/10\n",
      "300/300 [==============================] - 2915s 10s/step - loss: 0.0123 - acc: 0.9958 - val_loss: 0.0132 - val_acc: 0.9975\n",
      "Epoch 7/10\n",
      "300/300 [==============================] - 2874s 10s/step - loss: 0.0104 - acc: 0.9979 - val_loss: 0.0138 - val_acc: 0.9987\n",
      "Epoch 8/10\n",
      "300/300 [==============================] - 2968s 10s/step - loss: 0.0126 - acc: 0.9977 - val_loss: 2.2225e-05 - val_acc: 1.0000\n",
      "Epoch 9/10\n",
      "300/300 [==============================] - 3136s 10s/step - loss: 0.0107 - acc: 0.9975 - val_loss: 0.0161 - val_acc: 0.9975\n",
      "Epoch 10/10\n",
      "300/300 [==============================] - 2760s 9s/step - loss: 0.0100 - acc: 0.9977 - val_loss: 0.0040 - val_acc: 0.9987\n"
     ]
    }
   ],
   "source": [
    "history = model.fit(\n",
    "      train_generator,\n",
    "      steps_per_epoch=300,\n",
    "      epochs=10,\n",
    "      validation_data=validation_generator,\n",
    "      validation_steps=25,\n",
    "      callbacks=[checkpoint_cb])"
   ]
  },
  {
   "cell_type": "code",
   "execution_count": 27,
   "metadata": {},
   "outputs": [
    {
     "name": "stdout",
     "output_type": "stream",
     "text": [
      "Found 992 images belonging to 2 classes.\n"
     ]
    }
   ],
   "source": [
    "test_generator = test_datagen.flow_from_directory(\n",
    "        test_dir,\n",
    "        target_size=(128, 128),\n",
    "        batch_size=32,\n",
    "        class_mode='binary')"
   ]
  },
  {
   "cell_type": "code",
   "execution_count": 29,
   "metadata": {},
   "outputs": [
    {
     "name": "stdout",
     "output_type": "stream",
     "text": [
      "31/31 [==============================] - 70s 2s/step - loss: 0.0040 - acc: 0.9990\n"
     ]
    },
    {
     "data": {
      "text/plain": [
       "[0.0040495446883141994, 0.9989919066429138]"
      ]
     },
     "execution_count": 29,
     "metadata": {},
     "output_type": "execute_result"
    }
   ],
   "source": [
    "model.evaluate(test_generator, steps=31)"
   ]
  },
  {
   "cell_type": "code",
   "execution_count": 30,
   "metadata": {},
   "outputs": [],
   "source": [
    "model.save(\"face_mask_detection_model.h5\")"
   ]
  },
  {
   "cell_type": "code",
   "execution_count": null,
   "metadata": {},
   "outputs": [],
   "source": []
  },
  {
   "cell_type": "code",
   "execution_count": null,
   "metadata": {},
   "outputs": [],
   "source": []
  },
  {
   "cell_type": "code",
   "execution_count": null,
   "metadata": {},
   "outputs": [],
   "source": []
  },
  {
   "cell_type": "code",
   "execution_count": null,
   "metadata": {},
   "outputs": [],
   "source": []
  },
  {
   "cell_type": "code",
   "execution_count": null,
   "metadata": {},
   "outputs": [],
   "source": []
  },
  {
   "cell_type": "code",
   "execution_count": null,
   "metadata": {},
   "outputs": [],
   "source": []
  },
  {
   "cell_type": "code",
   "execution_count": null,
   "metadata": {},
   "outputs": [],
   "source": []
  },
  {
   "cell_type": "code",
   "execution_count": null,
   "metadata": {},
   "outputs": [],
   "source": []
  },
  {
   "cell_type": "code",
   "execution_count": null,
   "metadata": {},
   "outputs": [],
   "source": []
  }
 ],
 "metadata": {
  "kernelspec": {
   "display_name": "Python 3",
   "language": "python",
   "name": "python3"
  },
  "language_info": {
   "codemirror_mode": {
    "name": "ipython",
    "version": 3
   },
   "file_extension": ".py",
   "mimetype": "text/x-python",
   "name": "python",
   "nbconvert_exporter": "python",
   "pygments_lexer": "ipython3",
   "version": "3.8.5"
  }
 },
 "nbformat": 4,
 "nbformat_minor": 4
}
